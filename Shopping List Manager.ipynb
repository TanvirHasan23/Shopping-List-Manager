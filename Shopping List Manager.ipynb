{
  "nbformat": 4,
  "nbformat_minor": 0,
  "metadata": {
    "colab": {
      "provenance": []
    },
    "kernelspec": {
      "name": "python3",
      "display_name": "Python 3"
    },
    "language_info": {
      "name": "python"
    }
  },
  "cells": [
    {
      "cell_type": "code",
      "source": [
        "available_product = {\n",
        "    'bread': 1.50, 'milk': 2.00, 'eggs': 3.00, 'butter': 2.50,\n",
        "    'cheese': 4.00, 'apple': 0.30, 'chicken': 5.00, 'rice': 1.20, 'pasta': 1.00\n",
        "}\n",
        "\n",
        "def add_items_to_list():\n",
        "    shopping_list = {}\n",
        "    print('Enter items for your shopping list. Type \"done\" when finished.')\n",
        "\n",
        "    while True:\n",
        "        product = input('Enter product name: ').lower()\n",
        "        if product == 'done':\n",
        "            break\n",
        "        if product in shopping_list:\n",
        "            print(f'{product} is already in shopping list.')\n",
        "        else:\n",
        "            shopping_list[product] = 0\n",
        "    return shopping_list\n",
        "\n",
        "def assign_price(shopping_list):\n",
        "    for product in list(shopping_list):\n",
        "        if product in available_product:\n",
        "            shopping_list[product] = available_product[product]\n",
        "        else:\n",
        "            try:\n",
        "                price = float(input(f'Enter the price of {product}: '))\n",
        "                if price >= 0:\n",
        "                    shopping_list[product] = price\n",
        "                else:\n",
        "                    print(\"Price cannot be negative. Please try again.\")\n",
        "                    del shopping_list[product]\n",
        "            except ValueError:\n",
        "                print(\"Invalid price entered. Please enter a number.\")\n",
        "                del shopping_list[product]\n",
        "    return shopping_list\n",
        "\n",
        "def display_shopping_list(shopping_list):\n",
        "    if shopping_list:\n",
        "        print(\"\\nYour Shopping List:\")\n",
        "        total_price = 0\n",
        "        for product, price in shopping_list.items():\n",
        "            print(f\"- {product.capitalize()}: ${price:.2f}\")\n",
        "            total_price += price\n",
        "        print(f\"Total Price: ${total_price:.2f}\")\n",
        "    else:\n",
        "        print(\"Your shopping list is empty.\")\n",
        "\n",
        "\n",
        "my_list = add_items_to_list()\n",
        "my_priced_list = assign_price(my_list)\n",
        "display_shopping_list(my_priced_list)"
      ],
      "metadata": {
        "id": "tsud3RquIaBI",
        "colab": {
          "base_uri": "https://localhost:8080/"
        },
        "outputId": "9f65330f-f474-472d-c30a-1dcf4a14439f"
      },
      "execution_count": 4,
      "outputs": [
        {
          "output_type": "stream",
          "name": "stdout",
          "text": [
            "Enter items for your shopping list. Type \"done\" when finished.\n",
            "Enter product name: milk\n",
            "Enter product name: rice\n",
            "Enter product name: done\n",
            "\n",
            "Your Shopping List:\n",
            "- Milk: $2.00\n",
            "- Rice: $1.20\n",
            "Total Price: $3.20\n"
          ]
        }
      ]
    }
  ]
}